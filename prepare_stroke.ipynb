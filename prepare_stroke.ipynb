{
 "cells": [
  {
   "cell_type": "code",
   "execution_count": null,
   "metadata": {},
   "outputs": [],
   "source": [
    "import pandahouse\n",
    "import pandas as pd\n",
    "import numpy as np\n",
    "from clickhouse_driver import Client\n",
    "import plotly.graph_objects as go"
   ]
  },
  {
   "cell_type": "code",
   "execution_count": null,
   "metadata": {},
   "outputs": [],
   "source": [
    "table = 'stroke'\n",
    "database = 'prepare'\n",
    "connection = {'host': 'http://localhost:8123', \n",
    "              'password':'1q2w3e4r', \n",
    "              'database': database}\n",
    "\n",
    "client = Client('localhost', password = '1q2w3e4r')"
   ]
  },
  {
   "cell_type": "code",
   "execution_count": null,
   "metadata": {},
   "outputs": [],
   "source": [
    "sql = \"\"\"CREATE DATABASE IF NOT EXISTS {}\"\"\".format(database)\n",
    "client.execute(sql)\n",
    "client.execute(\"SHOW DATABASES\")"
   ]
  },
  {
   "cell_type": "code",
   "execution_count": null,
   "metadata": {},
   "outputs": [],
   "source": [
    "df_stroke = pandahouse.read_clickhouse('SELECT * FROM {}'.format(table), \n",
    "                                       index_col='uuid', \n",
    "                                       connection=connection)\n",
    "df_stroke.head()"
   ]
  },
  {
   "cell_type": "code",
   "execution_count": null,
   "metadata": {},
   "outputs": [],
   "source": [
    "columns = [\n",
    "    \"_50\", \"_100\", \"_150\", \"_200\", \"_250\", \"_300\", \"_350\", \"_400\", \"_450\",\"_500\",\n",
    "    \"_550\", \"_600\", \"_650\", \"_700\", \"_750\", \"_800\", \"_850\", \"_900\", \"_950\", \"_1000\",\n",
    "    \"_1050\", \"_1100\", \"_1150\", \"_1200\", \"_1250\", \"_1300\", \"_1350\", \"_1400\", \"_1450\", \"_1500\",\n",
    "    \"_1550\", \"_1600\", \"_1650\", \"_1700\", \"_1750\", \"_1800\", \"_1850\", \"_1900\", \"_1950\", \"_2000\"\n",
    "]\n",
    "df_stroke[columns] = df_stroke[columns].round().astype('uint8')"
   ]
  },
  {
   "cell_type": "code",
   "execution_count": null,
   "metadata": {
    "scrolled": true
   },
   "outputs": [],
   "source": [
    "df_stroke.info()"
   ]
  },
  {
   "cell_type": "code",
   "execution_count": null,
   "metadata": {},
   "outputs": [],
   "source": [
    "df_stroke.describe()"
   ]
  },
  {
   "cell_type": "code",
   "execution_count": null,
   "metadata": {},
   "outputs": [],
   "source": [
    "for col in columns:\n",
    "    df_stroke[col].replace(0, df_stroke.loc[df_stroke[col] != 0, col].median(), inplace=True)\n",
    "\n",
    "df_stroke.describe()"
   ]
  },
  {
   "cell_type": "code",
   "execution_count": null,
   "metadata": {
    "scrolled": true
   },
   "outputs": [],
   "source": [
    "columns = [\"mean_stroke_500\",  \"mean_stroke_1000\", \"mean_stroke_1500\", \"mean_stroke_2000\"]\n",
    "for i, col in enumerate(columns):\n",
    "    df_stroke[col] = df_stroke.iloc[:, i*10:(i+1)*10].mean(axis=1).astype('uint8')\n",
    "\n",
    "df_stroke"
   ]
  },
  {
   "cell_type": "code",
   "execution_count": null,
   "metadata": {},
   "outputs": [],
   "source": [
    "client.execute(\"\"\"DROP TABLE IF EXISTS {}.{} \"\"\".format(database, table))\n",
    "\n",
    "sql = \"\"\"\n",
    "CREATE TABLE IF NOT EXISTS {}.{}\n",
    "(\n",
    "    uuid String,\n",
    "    _50 UInt8,\n",
    "    _100 UInt8,\n",
    "    _150 UInt8,\n",
    "    _200 UInt8,\n",
    "    _250 UInt8,\n",
    "    _300 UInt8,\n",
    "    _350 UInt8,\n",
    "    _400 UInt8,\n",
    "    _450 UInt8,\n",
    "    _500 UInt8,\n",
    "    _550 UInt8,\n",
    "    _600 UInt8,\n",
    "    _650 UInt8,\n",
    "    _700 UInt8,\n",
    "    _750 UInt8,\n",
    "    _800 UInt8,\n",
    "    _850 UInt8,\n",
    "    _900 UInt8,\n",
    "    _950 UInt8,\n",
    "    _1000 UInt8,\n",
    "    _1050 UInt8,\n",
    "    _1100 UInt8,\n",
    "    _1150 UInt8,\n",
    "    _1200 UInt8,\n",
    "    _1250 UInt8,\n",
    "    _1300 UInt8,\n",
    "    _1350 UInt8,\n",
    "    _1400 UInt8,\n",
    "    _1450 UInt8,\n",
    "    _1500 UInt8,\n",
    "    _1550 UInt8,\n",
    "    _1600 UInt8,\n",
    "    _1650 UInt8,\n",
    "    _1700 UInt8,\n",
    "    _1750 UInt8,\n",
    "    _1800 UInt8,\n",
    "    _1850 UInt8,\n",
    "    _1900 UInt8,\n",
    "    _1950 UInt8,\n",
    "    _2000 UInt8,\n",
    "    mean_stroke_500 UInt8,\n",
    "    mean_stroke_1000 UInt8,\n",
    "    mean_stroke_1500 UInt8,\n",
    "    mean_stroke_2000 UInt8,\n",
    "    date_competition Date\n",
    ") ENGINE = MergeTree(date_competition, (uuid), 8192)\n",
    "\n",
    "\"\"\".format(database, table)\n",
    "\n",
    "client.execute(sql)\n",
    "client.execute(\"SHOW TABLES FROM {}\".format(database))"
   ]
  },
  {
   "cell_type": "code",
   "execution_count": null,
   "metadata": {},
   "outputs": [],
   "source": [
    "affected_rows = pandahouse.to_clickhouse(df_stroke, table=table, connection=connection)"
   ]
  },
  {
   "cell_type": "markdown",
   "metadata": {},
   "source": [
    "---\n",
    "\n",
    "## Чтение обработанной таблицы с темпами\n",
    "\n",
    "---"
   ]
  },
  {
   "cell_type": "code",
   "execution_count": null,
   "metadata": {},
   "outputs": [],
   "source": [
    "df = df_stroke"
   ]
  },
  {
   "cell_type": "code",
   "execution_count": null,
   "metadata": {},
   "outputs": [],
   "source": [
    "df = pandahouse.read_clickhouse(\"\"\"SELECT * FROM {}.{}\"\"\".format(database, table), \n",
    "                                index_col='uuid',\n",
    "                                connection=connection)\n",
    "df"
   ]
  },
  {
   "cell_type": "code",
   "execution_count": null,
   "metadata": {},
   "outputs": [],
   "source": [
    "def iqr(series):\n",
    "    Q1 = series.quantile(0.25)\n",
    "    Q3 = series.quantile(0.75)\n",
    "    IQR = Q3 - Q1\n",
    "\n",
    "    # Filtering Values between Q1-1.5IQR and Q3+1.5IQR\n",
    "    return series[(Q1 - 1.5 * IQR <= series) & (series <= Q3 + 1.5 * IQR)]"
   ]
  },
  {
   "cell_type": "code",
   "execution_count": null,
   "metadata": {},
   "outputs": [],
   "source": [
    "def plot_stroke_scatter(df):\n",
    "    df = df.iloc[:1000]\n",
    "\n",
    "    label_columns = [\n",
    "        \"_50\", \"_100\", \"_150\", \"_200\", \"_250\", \"_300\", \"_350\", \"_400\", \"_450\",\"_500\",\n",
    "        \"_550\", \"_600\", \"_650\", \"_700\", \"_750\", \"_800\", \"_850\", \"_900\", \"_950\", \"_1000\",\n",
    "        \"_1050\", \"_1100\", \"_1150\", \"_1200\", \"_1250\", \"_1300\", \"_1350\", \"_1400\", \"_1450\", \"_1500\",\n",
    "        \"_1550\", \"_1600\", \"_1650\", \"_1700\", \"_1750\", \"_1800\", \"_1850\", \"_1900\", \"_1950\", \"_2000\"\n",
    "    ]\n",
    "\n",
    "\n",
    "    fig = go.Figure()\n",
    "\n",
    "    for col in label_columns:\n",
    "        filtered = iqr(df[col])\n",
    "        fig.add_trace(\n",
    "            go.Scatter(\n",
    "                x=[col[1:]] * len(filtered),\n",
    "                y=filtered,\n",
    "                mode='markers',\n",
    "                marker=dict(\n",
    "                    color='rgba(255, 182, 193, .1)',\n",
    "                    line_width=0.5\n",
    "                ) \n",
    "            )\n",
    "        )\n",
    "\n",
    "\n",
    "    fig.show()\n",
    "\n",
    "# plot_stroke_scatter(df)"
   ]
  },
  {
   "cell_type": "code",
   "execution_count": null,
   "metadata": {},
   "outputs": [],
   "source": [
    "def plot_stroke_scatter(df):\n",
    "\n",
    "    label_columns = [\n",
    "        \"_50\", \"_100\", \"_150\", \"_200\", \"_250\", \"_300\", \"_350\", \"_400\", \"_450\",\"_500\",\n",
    "        \"_550\", \"_600\", \"_650\", \"_700\", \"_750\", \"_800\", \"_850\", \"_900\", \"_950\", \"_1000\",\n",
    "        \"_1050\", \"_1100\", \"_1150\", \"_1200\", \"_1250\", \"_1300\", \"_1350\", \"_1400\", \"_1450\", \"_1500\",\n",
    "        \"_1550\", \"_1600\", \"_1650\", \"_1700\", \"_1750\", \"_1800\", \"_1850\", \"_1900\", \"_1950\", \"_2000\"\n",
    "    ]\n",
    "\n",
    "    fig = go.Figure()\n",
    "\n",
    "    for col in label_columns:\n",
    "        filtered = iqr(df[col])\n",
    "        size = filtered.value_counts(normalize=True, sort=False).sort_index()\n",
    "        moda = size.idxmax()\n",
    "        color = ['rgb(25, 70, 186, .7)'] * len(size)\n",
    "        color[size.index.get_loc(moda)] = 'rgb(236, 11, 67)'\n",
    "\n",
    "        fig.add_trace(\n",
    "            go.Scatter(\n",
    "                x=[col[1:]] * len(size),\n",
    "                y=size.index,\n",
    "                name=col[1:],\n",
    "                mode='markers',\n",
    "                    marker=dict(\n",
    "                        size=size,\n",
    "                        sizemode='area',\n",
    "                        sizeref=2.*max(size)/(10.**2),\n",
    "                        color=color\n",
    "                    )\n",
    "            )\n",
    "        )\n",
    "\n",
    "    fig.update_layout(showlegend=False, \n",
    "                      title=\"Наиболее используемые темпа\")\n",
    "    fig.show()\n",
    "\n",
    "plot_stroke_scatter(df)"
   ]
  },
  {
   "cell_type": "code",
   "execution_count": null,
   "metadata": {},
   "outputs": [],
   "source": [
    "def plot_stroke_scatter(df):\n",
    "    label_columns = [\n",
    "        \"_50\", \"_100\", \"_150\", \"_200\", \"_250\", \"_300\", \"_350\", \"_400\", \"_450\",\"_500\",\n",
    "        \"_550\", \"_600\", \"_650\", \"_700\", \"_750\", \"_800\", \"_850\", \"_900\", \"_950\", \"_1000\",\n",
    "        \"_1050\", \"_1100\", \"_1150\", \"_1200\", \"_1250\", \"_1300\", \"_1350\", \"_1400\", \"_1450\", \"_1500\",\n",
    "        \"_1550\", \"_1600\", \"_1650\", \"_1700\", \"_1750\", \"_1800\", \"_1850\", \"_1900\", \"_1950\", \"_2000\"\n",
    "    ]\n",
    "    df[label_columns] = df[label_columns][df[label_columns] >= df[label_columns].quantile(0.75)]\n",
    "\n",
    "    fig = go.Figure()\n",
    "\n",
    "    for col in label_columns[:10]:   \n",
    "        fig.add_trace(\n",
    "            go.Violin(\n",
    "                x=[col[1:]] * len(df),\n",
    "                y=df[col],\n",
    "                name=col[1:],\n",
    "                box_visible=True,\n",
    "                meanline_visible=True\n",
    "            )\n",
    "        )\n",
    "\n",
    "    fig.update_layout(showlegend=False, \n",
    "                      title=\"Наиболее используемые темпа\")\n",
    "    fig.show()\n",
    "\n",
    "plot_stroke_scatter(df)"
   ]
  },
  {
   "cell_type": "code",
   "execution_count": null,
   "metadata": {
    "scrolled": true
   },
   "outputs": [],
   "source": [
    "fig = go.Figure()\n",
    "\n",
    "traces = []\n",
    "label_columns = [\n",
    "    \"_50\", \"_100\", \"_150\", \"_200\", \"_250\", \"_300\", \"_350\", \"_400\", \"_450\",\"_500\",\n",
    "    \"_550\", \"_600\", \"_650\", \"_700\", \"_750\", \"_800\", \"_850\", \"_900\", \"_950\", \"_1000\",\n",
    "    \"_1050\", \"_1100\", \"_1150\", \"_1200\", \"_1250\", \"_1300\", \"_1350\", \"_1400\", \"_1450\", \"_1500\",\n",
    "    \"_1550\", \"_1600\", \"_1650\", \"_1700\", \"_1750\", \"_1800\", \"_1850\", \"_1900\", \"_1950\", \"_2000\"\n",
    "]\n",
    "for xd, yd in zip(label_columns[:10], df[label_columns[:10]].values):\n",
    "        traces.append(go.Box(\n",
    "            y=yd,\n",
    "            name=xd[1:],\n",
    "            boxpoints='outliers',\n",
    "            jitter=0.5,\n",
    "            whiskerwidth=0.2,\n",
    "            marker=dict(\n",
    "                size=2,\n",
    "            ),\n",
    "            line=dict(width=1),\n",
    "        ))\n",
    "\n",
    "layout = go.Layout(\n",
    "    title='Points Scored by the Top 9 Scoring NBA Players in 2012',\n",
    "    yaxis=dict(\n",
    "        autorange=True,\n",
    "        showgrid=True,\n",
    "        zeroline=True,\n",
    "        gridcolor='rgb(255, 255, 255)',\n",
    "        gridwidth=1,\n",
    "        zerolinecolor='rgb(255, 255, 255)',\n",
    "        zerolinewidth=2,\n",
    "    ),\n",
    "    margin=dict(\n",
    "        l=40,\n",
    "        r=30,\n",
    "        b=80,\n",
    "        t=100,\n",
    "    ),\n",
    "    paper_bgcolor='rgb(243, 243, 243)',\n",
    "    plot_bgcolor='rgb(243, 243, 243)',\n",
    "    showlegend=False\n",
    ")\n",
    "\n",
    "fig = go.Figure(data=traces, layout=layout)\n",
    "\n",
    "fig.show()"
   ]
  },
  {
   "cell_type": "code",
   "execution_count": null,
   "metadata": {},
   "outputs": [],
   "source": [
    "def plot_stroke_violin(df):\n",
    "    label_columns = [\n",
    "        \"_50\", \"_100\", \"_150\", \"_200\", \"_250\", \"_300\", \"_350\", \"_400\", \"_450\",\"_500\",\n",
    "        \"_550\", \"_600\", \"_650\", \"_700\", \"_750\", \"_800\", \"_850\", \"_900\", \"_950\", \"_1000\",\n",
    "        \"_1050\", \"_1100\", \"_1150\", \"_1200\", \"_1250\", \"_1300\", \"_1350\", \"_1400\", \"_1450\", \"_1500\",\n",
    "        \"_1550\", \"_1600\", \"_1650\", \"_1700\", \"_1750\", \"_1800\", \"_1850\", \"_1900\", \"_1950\", \"_2000\"\n",
    "    ]\n",
    "\n",
    "    fig = go.Figure()\n",
    "    \n",
    "    for col in label_columns:\n",
    "        filtered = iqr(df[col])\n",
    "        \n",
    "        fig.add_trace(\n",
    "            go.Violin(\n",
    "                x=[col[1:]] * len(filtered),\n",
    "                y=filtered,\n",
    "                name=col[1:],\n",
    "                box_visible=True,\n",
    "            )\n",
    "        )\n",
    "\n",
    "    fig.update_layout(showlegend=False, \n",
    "                      title=\"Наиболее используемые темпа\",     \n",
    "                      xaxis_title=\"Дистанция (м)\",\n",
    "                      yaxis_title=\"Темп (1/мин)\",)\n",
    "    fig.show()\n",
    "\n",
    "plot_stroke_violin(df)"
   ]
  },
  {
   "cell_type": "code",
   "execution_count": null,
   "metadata": {},
   "outputs": [],
   "source": [
    "def plot_heatmap_stroke(df, split=1):\n",
    "    label_columns = [\n",
    "        \"_50\", \"_100\", \"_150\", \"_200\", \"_250\", \"_300\", \"_350\", \"_400\", \"_450\",\"_500\",\n",
    "        \"_550\", \"_600\", \"_650\", \"_700\", \"_750\", \"_800\", \"_850\", \"_900\", \"_950\", \"_1000\",\n",
    "        \"_1050\", \"_1100\", \"_1150\", \"_1200\", \"_1250\", \"_1300\", \"_1350\", \"_1400\", \"_1450\", \"_1500\",\n",
    "        \"_1550\", \"_1600\", \"_1650\", \"_1700\", \"_1750\", \"_1800\", \"_1850\", \"_1900\", \"_1950\", \"_2000\"\n",
    "    ]\n",
    "    \n",
    "    filtered = iqr(df[label_columns])\n",
    "    label = [col[1:] for col in label_columns]\n",
    "    \n",
    "    if split != 1:\n",
    "        split_df = pd.DataFrame()\n",
    "        columns = [arr.tolist() for arr in np.array_split(label_columns, split)]\n",
    "        for cols in columns:\n",
    "            split_df[cols[-1][1:]] = filtered[cols].mean(axis=1)\n",
    "        filtered = split_df\n",
    "        \n",
    "        step = len(label) // split\n",
    "        label = label[step-1::step]\n",
    "        \n",
    "    \n",
    "\n",
    "    fig = go.Figure(data=go.Heatmap(x=label,\n",
    "                                    y=label,\n",
    "                                    z=filtered.corr(),\n",
    "                                    colorscale = \"YlOrRd\"))\n",
    "\n",
    "    fig.show()\n",
    "    \n",
    "plot_heatmap_stroke(df, split=20)"
   ]
  },
  {
   "cell_type": "code",
   "execution_count": null,
   "metadata": {},
   "outputs": [],
   "source": [
    "df[label_columns].corr()"
   ]
  },
  {
   "cell_type": "code",
   "execution_count": null,
   "metadata": {},
   "outputs": [],
   "source": [
    "df_stroke.info()"
   ]
  },
  {
   "cell_type": "code",
   "execution_count": null,
   "metadata": {},
   "outputs": [],
   "source": [
    "df_stroke.describe()"
   ]
  },
  {
   "cell_type": "code",
   "execution_count": null,
   "metadata": {},
   "outputs": [],
   "source": [
    "label_columns = [\n",
    "    \"_50\", \"_100\", \"_150\", \"_200\", \"_250\", \"_300\", \"_350\", \"_400\", \"_450\",\"_500\",\n",
    "    \"_550\", \"_600\", \"_650\", \"_700\", \"_750\", \"_800\", \"_850\", \"_900\", \"_950\", \"_1000\",\n",
    "    \"_1050\", \"_1100\", \"_1150\", \"_1200\", \"_1250\", \"_1300\", \"_1350\", \"_1400\", \"_1450\", \"_1500\",\n",
    "    \"_1550\", \"_1600\", \"_1650\", \"_1700\", \"_1750\", \"_1800\", \"_1850\", \"_1900\", \"_1950\", \"_2000\"\n",
    "]\n",
    "iqr(df_stroke[label_columns]).describe()"
   ]
  },
  {
   "cell_type": "code",
   "execution_count": null,
   "metadata": {},
   "outputs": [],
   "source": [
    "label_columns = [\n",
    "    \"_50\", \"_100\", \"_150\", \"_200\", \"_250\", \"_300\", \"_350\", \"_400\", \"_450\",\"_500\",\n",
    "    \"_550\", \"_600\", \"_650\", \"_700\", \"_750\", \"_800\", \"_850\", \"_900\", \"_950\", \"_1000\",\n",
    "    \"_1050\", \"_1100\", \"_1150\", \"_1200\", \"_1250\", \"_1300\", \"_1350\", \"_1400\", \"_1450\", \"_1500\",\n",
    "    \"_1550\", \"_1600\", \"_1650\", \"_1700\", \"_1750\", \"_1800\", \"_1850\", \"_1900\", \"_1950\", \"_2000\"\n",
    "]\n",
    "\n",
    "np.array_split(label_columns, 4)"
   ]
  },
  {
   "cell_type": "code",
   "execution_count": null,
   "metadata": {},
   "outputs": [],
   "source": []
  }
 ],
 "metadata": {
  "kernelspec": {
   "display_name": "Python 3",
   "language": "python",
   "name": "python3"
  },
  "language_info": {
   "codemirror_mode": {
    "name": "ipython",
    "version": 3
   },
   "file_extension": ".py",
   "mimetype": "text/x-python",
   "name": "python",
   "nbconvert_exporter": "python",
   "pygments_lexer": "ipython3",
   "version": "3.6.7"
  }
 },
 "nbformat": 4,
 "nbformat_minor": 2
}
